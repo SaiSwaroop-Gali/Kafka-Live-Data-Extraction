{
 "cells": [
  {
   "cell_type": "code",
   "execution_count": 1,
   "id": "960369fe-01b2-434d-b953-fb91d0ada3c2",
   "metadata": {},
   "outputs": [],
   "source": [
    "import finnhub\n",
    "import pandas as pd\n",
    "from kafka import KafkaProducer\n",
    "from time import sleep\n",
    "from json import dumps\n",
    "import json"
   ]
  },
  {
   "cell_type": "code",
   "execution_count": 2,
   "id": "5b69fa0f-cd7f-40cf-af10-aac716183d4a",
   "metadata": {},
   "outputs": [
    {
     "name": "stdin",
     "output_type": "stream",
     "text": [
      "Enter the company stock symbol value:  aapl\n"
     ]
    }
   ],
   "source": [
    "a = str(input(\"Enter the company stock symbol value: \")).upper()"
   ]
  },
  {
   "cell_type": "code",
   "execution_count": 4,
   "id": "cbe14709-2bec-4ad3-a889-39288a11dee0",
   "metadata": {},
   "outputs": [],
   "source": [
    "producer = KafkaProducer(bootstrap_servers=['34.228.213.166:9092'], #change ip here\n",
    "                         value_serializer=lambda x: \n",
    "                         dumps(x).encode('utf-8'))"
   ]
  },
  {
   "cell_type": "code",
   "execution_count": 6,
   "id": "96922659-46de-4911-be98-e011b3a2b9c2",
   "metadata": {},
   "outputs": [
    {
     "data": {
      "text/plain": [
       "<kafka.producer.future.FutureRecordMetadata at 0x2846a09d210>"
      ]
     },
     "execution_count": 6,
     "metadata": {},
     "output_type": "execute_result"
    }
   ],
   "source": [
    "producer.send('demo_testing', value={'surname':'gali'})"
   ]
  },
  {
   "cell_type": "code",
   "execution_count": null,
   "id": "a891ffec-99d2-4abd-aa7a-fbc7176e1e51",
   "metadata": {},
   "outputs": [],
   "source": [
    "finnhub_client = finnhub.Client(api_key=\"cnvnvi9r01qmeb8u1u9gcnvnvi9r01qmeb8u1ua0\")\n",
    "symbol = a\n",
    "\n",
    "# Counter to keep track of the number of values fetched\n",
    "fetch_count = 0\n",
    "\n",
    "try:\n",
    "    while fetch_count < 15:\n",
    "        quote_data = finnhub_client.quote(symbol)\n",
    "        print(quote_data)\n",
    "        producer.send('demo_testing', value=quote_data)\n",
    "        fetch_count += 1\n",
    "        sleep(30)\n",
    "        \n",
    "    print(\"Reached maximum fetch count of 15. Stopping program.\")\n",
    "        \n",
    "except KeyboardInterrupt:\n",
    "    print(\"Program terminated by user\")"
   ]
  },
  {
   "cell_type": "code",
   "execution_count": 10,
   "id": "94de503c-3d42-403d-bee8-1b242532db63",
   "metadata": {},
   "outputs": [],
   "source": [
    "#producer.flush() #clear data from kafka server"
   ]
  },
  {
   "cell_type": "code",
   "execution_count": null,
   "id": "21247875-bd43-4410-aefc-6a39e2976b3d",
   "metadata": {},
   "outputs": [],
   "source": []
  }
 ],
 "metadata": {
  "kernelspec": {
   "display_name": "Python 3 (ipykernel)",
   "language": "python",
   "name": "python3"
  },
  "language_info": {
   "codemirror_mode": {
    "name": "ipython",
    "version": 3
   },
   "file_extension": ".py",
   "mimetype": "text/x-python",
   "name": "python",
   "nbconvert_exporter": "python",
   "pygments_lexer": "ipython3",
   "version": "3.11.4"
  }
 },
 "nbformat": 4,
 "nbformat_minor": 5
}
